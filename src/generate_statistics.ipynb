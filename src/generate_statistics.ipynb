{
 "cells": [
  {
   "cell_type": "code",
   "execution_count": 1,
   "metadata": {},
   "outputs": [],
   "source": [
    "import pandas as pd\n",
    "import numpy as np\n",
    "import matplotlib.pyplot as plt\n",
    "import itertools\n",
    "import json\n",
    "import csv\n",
    "import math"
   ]
  },
  {
   "cell_type": "code",
   "execution_count": 11,
   "metadata": {},
   "outputs": [],
   "source": [
    "def load_file(file_name):\n",
    "  with open(file_name) as file:\n",
    "      data = json.load(file)\n",
    "  return data\n",
    "\n",
    "def save_csv(result, filename):\n",
    "  with open(filename, 'w', newline='') as csv_file:\n",
    "    writer = csv.writer(csv_file)\n",
    "    writer.writerow(list(result.keys()))\n",
    "    writer.writerow(list(result.values()))\n",
    "\n",
    "def plot_data(result, filename):\n",
    "  x_data = []\n",
    "  y_data = []\n",
    "\n",
    "  for item in result:\n",
    "    x_data.append(item)\n",
    "    y_data.append(result[item])\n",
    "\n",
    "  plt.plot(x_data, y_data)\n",
    "  plt.xlabel('Word')\n",
    "  plt.ylabel('Count')\n",
    "  plt.title('Histogram')\n",
    "\n",
    "  plt.savefig(filename)\n",
    "\n",
    "def count_number(data, field_name):\n",
    "  cnt = 0\n",
    "  for i in range(len(data)):\n",
    "    cnt += len(data[i][field_name])\n",
    "  return cnt\n",
    "\n",
    "def count_word_in_data(word, data):\n",
    "  cnt = 0\n",
    "  for i in range(len(data)):\n",
    "    for w in list(data[i]['word_broken']):\n",
    "      if w == word:\n",
    "        cnt += 1\n",
    "  return cnt\n",
    "\n",
    "def number_of_each_words(data):\n",
    "  s = []\n",
    "  cnt = {}\n",
    "\n",
    "  for i in range(len(data)):\n",
    "    s.extend(list(data[i]['word_broken']))\n",
    "  s = list(set(s))\n",
    "\n",
    "  for word in s:\n",
    "    cnt[word] = 0\n",
    "\n",
    "  for i in range(len(data)):\n",
    "    for word in list(data[i]['word_broken']):\n",
    "      if word.isalpha():\n",
    "        cnt[word] += 1\n",
    "  \n",
    "  cnt = dict(sorted(cnt.items(), key=lambda x: x[1], reverse=True))\n",
    "\n",
    "  return cnt\n",
    "\n",
    "def count_unique_words(data):\n",
    "  s = []\n",
    "  for i in range(len(data)):\n",
    "    s.extend(list(data[i]['word_broken']))\n",
    "  return len(list(set(s)))\n",
    "\n",
    "def count_common_and_uncommon_words(data1, data2, data3):\n",
    "  s1 = []\n",
    "  for i in range(len(data1)):\n",
    "    s1.extend(list(data1[i]['word_broken']))\n",
    "  s1 = list(set(s1))\n",
    "\n",
    "  s2 = []\n",
    "  for i in range(len(data2)):\n",
    "    s2.extend(list(data2[i]['word_broken']))\n",
    "  s2 = list(set(s2))\n",
    "\n",
    "  common_words = []\n",
    "  for word in s1:\n",
    "    if word in s2:\n",
    "      common_words.append(word)\n",
    "\n",
    "  uncommon_words_count = count_unique_words(data3) - len(common_words)\n",
    "\n",
    "  return len(common_words), uncommon_words_count\n",
    "\n",
    "def most_common_uncommon_word(data1, data2, k):\n",
    "  data1_words = number_of_each_words(data1)\n",
    "  data2_words = number_of_each_words(data2)\n",
    "\n",
    "  word_list = {}\n",
    "  for word, cnt in data1_words.items():\n",
    "      if word not in data2_words.keys():\n",
    "          word_list[word] = cnt\n",
    "  word_list = dict(sorted(word_list.items(), key=lambda x: x[1], reverse=True))\n",
    "  return dict(itertools.islice(word_list.items(), k))\n",
    "\n",
    "def TF_IDF(data, dataset):\n",
    "  tf_idf = {}\n",
    "  N = len(dataset)\n",
    "  cnt_word_in_data = number_of_each_words(data)\n",
    "  cnt_word_in_dataset = number_of_each_words(dataset)\n",
    "  for i in range(len(data)):\n",
    "    for w in list(data[i]['word_broken']):\n",
    "      if len(w) > 4:\n",
    "        tf_idf[w] = cnt_word_in_data[w] * math.log2(N / cnt_word_in_dataset[w])\n",
    "\n",
    "  tf_idf = dict(sorted(tf_idf.items(), key=lambda x: x[1], reverse=True))\n",
    "  return dict(itertools.islice(tf_idf.items(), 10))"
   ]
  },
  {
   "cell_type": "code",
   "execution_count": 3,
   "metadata": {},
   "outputs": [],
   "source": [
    "data = df = pd.read_csv('../data/clean/clean_data.csv')\n",
    "all_tweets_word_broken = load_file('../data/wordbroken/all_tweets.json')\n",
    "all_tweets_sentence_broken = load_file('../data/sentencebroken/all_tweets.json')\n",
    "male_tweets_word_broken = load_file('../data/wordbroken/male_tweets.json')\n",
    "male_tweets_sentence_broken = load_file('../data/sentencebroken/male_tweets.json')\n",
    "female_tweets_word_broken = load_file('../data/wordbroken/female_tweets.json')\n",
    "female_tweets_sentence_broken = load_file('../data/sentencebroken/female_tweets.json')"
   ]
  },
  {
   "cell_type": "code",
   "execution_count": 134,
   "metadata": {},
   "outputs": [],
   "source": [
    "data_count = {'all tweets' : len(data), 'men': len(male_tweets_word_broken), 'female': len(female_tweets_word_broken)}\n",
    "save_csv(data_count, '../stats/data_count.csv')"
   ]
  },
  {
   "cell_type": "code",
   "execution_count": 135,
   "metadata": {},
   "outputs": [],
   "source": [
    "sentence_count = {'all tweets': count_number(all_tweets_sentence_broken, 'sentence_broken'),\n",
    "                  'men' : count_number(male_tweets_sentence_broken, 'sentence_broken'),\n",
    "                  'female': count_number(female_tweets_sentence_broken, 'sentence_broken')}\n",
    "save_csv(sentence_count, '../stats/sentence_count.csv')"
   ]
  },
  {
   "cell_type": "code",
   "execution_count": 136,
   "metadata": {},
   "outputs": [],
   "source": [
    "word_count = {'all tweets': count_number(all_tweets_word_broken, 'word_broken'),\n",
    "                  'men' : count_number(male_tweets_word_broken, 'word_broken'),\n",
    "                  'female': count_number(female_tweets_word_broken, 'word_broken')}\n",
    "save_csv(word_count, '../stats/word_count.csv')"
   ]
  },
  {
   "cell_type": "code",
   "execution_count": 137,
   "metadata": {},
   "outputs": [],
   "source": [
    "unique_word_count = {'all tweets': count_unique_words(all_tweets_word_broken),\n",
    "                     'men': count_unique_words(male_tweets_word_broken),\n",
    "                     'female': count_unique_words(female_tweets_word_broken)}\n",
    "save_csv(unique_word_count, '../stats/unique_word_count.csv')"
   ]
  },
  {
   "cell_type": "code",
   "execution_count": 138,
   "metadata": {},
   "outputs": [],
   "source": [
    "count_common_words, count_uncommon_words = count_common_and_uncommon_words(male_tweets_word_broken, female_tweets_word_broken, all_tweets_word_broken)\n",
    "count_common_and_uncommin_words = {'common': count_common_words,\n",
    "                                   'uncommon': count_uncommon_words}\n",
    "save_csv(count_common_and_uncommin_words, '../stats/count_common_and_uncommin_words.csv')"
   ]
  },
  {
   "cell_type": "code",
   "execution_count": 12,
   "metadata": {},
   "outputs": [],
   "source": [
    "frequent_uncommon_word = {'men': most_common_uncommon_word(male_tweets_word_broken, female_tweets_word_broken, 3),\n",
    "                          'female': most_common_uncommon_word(female_tweets_word_broken, male_tweets_word_broken, 3)}\n",
    "save_csv(frequent_uncommon_word, '../stats/frequent_uncommon_word.csv')"
   ]
  },
  {
   "cell_type": "code",
   "execution_count": 163,
   "metadata": {},
   "outputs": [],
   "source": [
    "save_csv(TF_IDF(male_tweets_word_broken, all_tweets_word_broken), '../stats/male_TF_IDF.csv')"
   ]
  },
  {
   "cell_type": "code",
   "execution_count": 164,
   "metadata": {},
   "outputs": [],
   "source": [
    "save_csv(TF_IDF(female_tweets_word_broken, all_tweets_word_broken), '../stats/female_TF_IDF.csv')"
   ]
  },
  {
   "cell_type": "code",
   "execution_count": 169,
   "metadata": {},
   "outputs": [
    {
     "data": {
      "image/png": "[encoded data removed]",
      "text/plain": [
       "<Figure size 640x480 with 1 Axes>"
      ]
     },
     "metadata": {},
     "output_type": "display_data"
    }
   ],
   "source": [
    "plot_data(dict(itertools.islice(number_of_each_words(all_tweets_word_broken).items(), 10)), '../stats/top_unique_words.png')"
   ]
  }
 ],
 "metadata": {
  "kernelspec": {
   "display_name": "Python 3",
   "language": "python",
   "name": "python3"
  },
  "language_info": {
   "codemirror_mode": {
    "name": "ipython",
    "version": 3
   },
   "file_extension": ".py",
   "mimetype": "text/x-python",
   "name": "python",
   "nbconvert_exporter": "python",
   "pygments_lexer": "ipython3",
   "version": "3.10.9"
  },
  "orig_nbformat": 4
 },
 "nbformat": 4,
 "nbformat_minor": 2
}
