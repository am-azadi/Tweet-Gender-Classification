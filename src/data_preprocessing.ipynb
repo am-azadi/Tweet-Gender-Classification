{
 "cells": [
  {
   "cell_type": "code",
   "execution_count": 71,
   "metadata": {},
   "outputs": [
    {
     "name": "stderr",
     "output_type": "stream",
     "text": [
      "[nltk_data] Error loading punkt: <urlopen error [WinError 10061] No\n",
      "[nltk_data]     connection could be made because the target machine\n",
      "[nltk_data]     actively refused it>\n"
     ]
    }
   ],
   "source": [
    "import pandas as pd\n",
    "import numpy as np\n",
    "import matplotlib.pyplot as plt\n",
    "import nltk\n",
    "nltk.download('punkt')\n",
    "from nltk.tokenize import sent_tokenize, word_tokenize\n",
    "import json"
   ]
  },
  {
   "cell_type": "code",
   "execution_count": 113,
   "metadata": {},
   "outputs": [],
   "source": [
    "df = pd.read_csv('../data/clean/clean_data.csv', encoding='latin1')"
   ]
  },
  {
   "cell_type": "code",
   "execution_count": 114,
   "metadata": {},
   "outputs": [
    {
     "data": {
      "text/html": [
       "<div>\n",
       "<style scoped>\n",
       "    .dataframe tbody tr th:only-of-type {\n",
       "        vertical-align: middle;\n",
       "    }\n",
       "\n",
       "    .dataframe tbody tr th {\n",
       "        vertical-align: top;\n",
       "    }\n",
       "\n",
       "    .dataframe thead th {\n",
       "        text-align: right;\n",
       "    }\n",
       "</style>\n",
       "<table border=\"1\" class=\"dataframe\">\n",
       "  <thead>\n",
       "    <tr style=\"text-align: right;\">\n",
       "      <th></th>\n",
       "      <th>gender</th>\n",
       "      <th>text</th>\n",
       "    </tr>\n",
       "  </thead>\n",
       "  <tbody>\n",
       "    <tr>\n",
       "      <th>0</th>\n",
       "      <td>1</td>\n",
       "      <td>Robbie E Responds To Critics After Win Against...</td>\n",
       "    </tr>\n",
       "    <tr>\n",
       "      <th>1</th>\n",
       "      <td>1</td>\n",
       "      <td>It felt like they were my friends and I was li...</td>\n",
       "    </tr>\n",
       "    <tr>\n",
       "      <th>2</th>\n",
       "      <td>1</td>\n",
       "      <td>i absolutely adore when louis starts the songs...</td>\n",
       "    </tr>\n",
       "    <tr>\n",
       "      <th>3</th>\n",
       "      <td>1</td>\n",
       "      <td>Hi - Looking at the url - do you use ?! Don't ...</td>\n",
       "    </tr>\n",
       "    <tr>\n",
       "      <th>4</th>\n",
       "      <td>0</td>\n",
       "      <td>Watching Neighbours on Sky+ catching up with t...</td>\n",
       "    </tr>\n",
       "  </tbody>\n",
       "</table>\n",
       "</div>"
      ],
      "text/plain": [
       "   gender                                               text\n",
       "0       1  Robbie E Responds To Critics After Win Against...\n",
       "1       1  It felt like they were my friends and I was li...\n",
       "2       1  i absolutely adore when louis starts the songs...\n",
       "3       1  Hi - Looking at the url - do you use ?! Don't ...\n",
       "4       0  Watching Neighbours on Sky+ catching up with t..."
      ]
     },
     "execution_count": 114,
     "metadata": {},
     "output_type": "execute_result"
    }
   ],
   "source": [
    "df.head()"
   ]
  },
  {
   "cell_type": "markdown",
   "metadata": {},
   "source": [
    "### tokenizing"
   ]
  },
  {
   "cell_type": "code",
   "execution_count": 115,
   "metadata": {},
   "outputs": [],
   "source": [
    "def tokenizer(data):\n",
    "    data['word_broken'] = pd.DataFrame(df['text'].apply(lambda x: word_tokenize(x)))\n",
    "    data['sentence_broken'] = pd.DataFrame(df['text'].apply(lambda x: sent_tokenize(x)))\n",
    "    return data"
   ]
  },
  {
   "cell_type": "code",
   "execution_count": 116,
   "metadata": {},
   "outputs": [],
   "source": [
    "df = tokenizer(df)"
   ]
  },
  {
   "cell_type": "code",
   "execution_count": 117,
   "metadata": {},
   "outputs": [
    {
     "data": {
      "text/html": [
       "<div>\n",
       "<style scoped>\n",
       "    .dataframe tbody tr th:only-of-type {\n",
       "        vertical-align: middle;\n",
       "    }\n",
       "\n",
       "    .dataframe tbody tr th {\n",
       "        vertical-align: top;\n",
       "    }\n",
       "\n",
       "    .dataframe thead th {\n",
       "        text-align: right;\n",
       "    }\n",
       "</style>\n",
       "<table border=\"1\" class=\"dataframe\">\n",
       "  <thead>\n",
       "    <tr style=\"text-align: right;\">\n",
       "      <th></th>\n",
       "      <th>gender</th>\n",
       "      <th>word_broken</th>\n",
       "      <th>sentence_broken</th>\n",
       "    </tr>\n",
       "  </thead>\n",
       "  <tbody>\n",
       "    <tr>\n",
       "      <th>0</th>\n",
       "      <td>1</td>\n",
       "      <td>[Robbie, E, Responds, To, Critics, After, Win,...</td>\n",
       "      <td>[Robbie E Responds To Critics After Win Agains...</td>\n",
       "    </tr>\n",
       "    <tr>\n",
       "      <th>1</th>\n",
       "      <td>1</td>\n",
       "      <td>[It, felt, like, they, were, my, friends, and,...</td>\n",
       "      <td>[It felt like they were my friends and I was l...</td>\n",
       "    </tr>\n",
       "    <tr>\n",
       "      <th>2</th>\n",
       "      <td>1</td>\n",
       "      <td>[i, absolutely, adore, when, louis, starts, th...</td>\n",
       "      <td>[i absolutely adore when louis starts the song...</td>\n",
       "    </tr>\n",
       "    <tr>\n",
       "      <th>3</th>\n",
       "      <td>1</td>\n",
       "      <td>[Hi, -, Looking, at, the, url, -, do, you, use...</td>\n",
       "      <td>[Hi - Looking at the url - do you use ?, !, Do...</td>\n",
       "    </tr>\n",
       "    <tr>\n",
       "      <th>4</th>\n",
       "      <td>0</td>\n",
       "      <td>[Watching, Neighbours, on, Sky+, catching, up,...</td>\n",
       "      <td>[Watching Neighbours on Sky+ catching up with ...</td>\n",
       "    </tr>\n",
       "  </tbody>\n",
       "</table>\n",
       "</div>"
      ],
      "text/plain": [
       "   gender                                        word_broken  \\\n",
       "0       1  [Robbie, E, Responds, To, Critics, After, Win,...   \n",
       "1       1  [It, felt, like, they, were, my, friends, and,...   \n",
       "2       1  [i, absolutely, adore, when, louis, starts, th...   \n",
       "3       1  [Hi, -, Looking, at, the, url, -, do, you, use...   \n",
       "4       0  [Watching, Neighbours, on, Sky+, catching, up,...   \n",
       "\n",
       "                                     sentence_broken  \n",
       "0  [Robbie E Responds To Critics After Win Agains...  \n",
       "1  [It felt like they were my friends and I was l...  \n",
       "2  [i absolutely adore when louis starts the song...  \n",
       "3  [Hi - Looking at the url - do you use ?, !, Do...  \n",
       "4  [Watching Neighbours on Sky+ catching up with ...  "
      ]
     },
     "execution_count": 117,
     "metadata": {},
     "output_type": "execute_result"
    }
   ],
   "source": [
    "df.drop(['text'], axis=1, inplace=True)\n",
    "df.head()"
   ]
  },
  {
   "cell_type": "code",
   "execution_count": 118,
   "metadata": {},
   "outputs": [],
   "source": [
    "male_tweets = df[(df['gender'] == 1)]\n",
    "female_tweets = df[(df['gender'] == 0)]"
   ]
  },
  {
   "cell_type": "markdown",
   "metadata": {},
   "source": [
    "### save word_broken & sentence broken data"
   ]
  },
  {
   "cell_type": "code",
   "execution_count": 119,
   "metadata": {},
   "outputs": [],
   "source": [
    "def get_sentence_broken(data):\n",
    "    word_broken = data.copy()\n",
    "    word_broken.drop(['sentence_broken'], axis=1, inplace=True)\n",
    "    \n",
    "    sentence_broken = data.copy()\n",
    "    sentence_broken.drop(['word_broken'], axis=1, inplace=True)\n",
    "\n",
    "    return word_broken, sentence_broken"
   ]
  },
  {
   "cell_type": "code",
   "execution_count": 120,
   "metadata": {},
   "outputs": [],
   "source": [
    "all_tweets_word_broken, all_tweets_sentence_broken = get_sentence_broken(df)\n",
    "male_tweets_word_broken, male_tweets_sentence_broken = get_sentence_broken(male_tweets)\n",
    "female_tweets_word_broken, female_tweets_sentence_broken = get_sentence_broken(female_tweets)"
   ]
  },
  {
   "cell_type": "code",
   "execution_count": 121,
   "metadata": {},
   "outputs": [],
   "source": [
    "with open(\"../data/wordbroken/all_tweets.json\", \"w\") as json_file:\n",
    "    json.dump(all_tweets_word_broken.to_dict('records'), json_file)\n",
    "with open(\"../data/sentencebroken/all_tweets.json\", \"w\") as json_file:\n",
    "    json.dump(all_tweets_sentence_broken.to_dict('records'), json_file)\n",
    "\n",
    "with open(\"../data/wordbroken/male_tweets.json\", \"w\") as json_file:\n",
    "    json.dump(male_tweets_word_broken.to_dict('records'), json_file)\n",
    "with open(\"../data/sentencebroken/male_tweets.json\", \"w\") as json_file:\n",
    "    json.dump(male_tweets_sentence_broken.to_dict('records'), json_file)\n",
    "\n",
    "with open(\"../data/wordbroken/female_tweets.json\", \"w\") as json_file:\n",
    "    json.dump(female_tweets_word_broken.to_dict('records'), json_file)\n",
    "with open(\"../data/sentencebroken/female_tweets.json\", \"w\") as json_file:\n",
    "    json.dump(female_tweets_sentence_broken.to_dict('records'), json_file)"
   ]
  }
 ],
 "metadata": {
  "kernelspec": {
   "display_name": "Python 3",
   "language": "python",
   "name": "python3"
  },
  "language_info": {
   "codemirror_mode": {
    "name": "ipython",
    "version": 3
   },
   "file_extension": ".py",
   "mimetype": "text/x-python",
   "name": "python",
   "nbconvert_exporter": "python",
   "pygments_lexer": "ipython3",
   "version": "3.11.0"
  },
  "orig_nbformat": 4
 },
 "nbformat": 4,
 "nbformat_minor": 2
}
